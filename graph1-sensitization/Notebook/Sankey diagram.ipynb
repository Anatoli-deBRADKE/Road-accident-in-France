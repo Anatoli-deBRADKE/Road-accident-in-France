{
 "cells": [
  {
   "cell_type": "markdown",
   "metadata": {},
   "source": [
    "<center><h1>Accidents Corporels de la Route en France</h1></center>\n",
    "<br>\n",
    "<center><i>Projet Data Visualization - IGR204</i></center>\n",
    "<center><i>Télécom ParisTech</i></center>"
   ]
  },
  {
   "cell_type": "markdown",
   "metadata": {},
   "source": [
    "## General imports"
   ]
  },
  {
   "cell_type": "code",
   "execution_count": 1,
   "metadata": {
    "ExecuteTime": {
     "end_time": "2019-06-18T16:09:29.674172Z",
     "start_time": "2019-06-18T16:09:28.416691Z"
    }
   },
   "outputs": [],
   "source": [
    "# General\n",
    "import numpy as np\n",
    "import pandas as pd\n",
    "import itertools\n",
    "from datetime import datetime, timedelta\n",
    "import warnings\n",
    "warnings.filterwarnings('ignore')\n",
    "\n",
    "# Graph\n",
    "import matplotlib.pyplot as plt\n",
    "import matplotlib.offsetbox as offsetbox\n",
    "import seaborn as sns\n",
    "import plotly\n",
    "import plotly.plotly as py\n",
    "plotly.tools.set_credentials_file(username='anatoli.db', api_key='xWsOWcl2vbDBL2BK4yYL')"
   ]
  },
  {
   "cell_type": "markdown",
   "metadata": {},
   "source": [
    "# I - Import preprocessed data "
   ]
  },
  {
   "cell_type": "code",
   "execution_count": 2,
   "metadata": {
    "ExecuteTime": {
     "end_time": "2019-06-18T16:09:49.704523Z",
     "start_time": "2019-06-18T16:09:48.592821Z"
    }
   },
   "outputs": [
    {
     "data": {
      "text/html": [
       "<div>\n",
       "<style scoped>\n",
       "    .dataframe tbody tr th:only-of-type {\n",
       "        vertical-align: middle;\n",
       "    }\n",
       "\n",
       "    .dataframe tbody tr th {\n",
       "        vertical-align: top;\n",
       "    }\n",
       "\n",
       "    .dataframe thead th {\n",
       "        text-align: right;\n",
       "    }\n",
       "</style>\n",
       "<table border=\"1\" class=\"dataframe\">\n",
       "  <thead>\n",
       "    <tr style=\"text-align: right;\">\n",
       "      <th></th>\n",
       "      <th>Unnamed: 0</th>\n",
       "      <th>Num_Acc</th>\n",
       "      <th>num_veh</th>\n",
       "      <th>vehicule</th>\n",
       "      <th>grav</th>\n",
       "      <th>secu</th>\n",
       "      <th>road</th>\n",
       "      <th>pieton</th>\n",
       "      <th>sexe</th>\n",
       "    </tr>\n",
       "  </thead>\n",
       "  <tbody>\n",
       "    <tr>\n",
       "      <th>0</th>\n",
       "      <td>0</td>\n",
       "      <td>200500000001</td>\n",
       "      <td>A01</td>\n",
       "      <td>Voiture</td>\n",
       "      <td>Blessure</td>\n",
       "      <td>Oui</td>\n",
       "      <td>Départementale</td>\n",
       "      <td>Non</td>\n",
       "      <td>M</td>\n",
       "    </tr>\n",
       "    <tr>\n",
       "      <th>1</th>\n",
       "      <td>1</td>\n",
       "      <td>200500000001</td>\n",
       "      <td>B02</td>\n",
       "      <td>Voiture</td>\n",
       "      <td>Blessure</td>\n",
       "      <td>Oui</td>\n",
       "      <td>Départementale</td>\n",
       "      <td>Non</td>\n",
       "      <td>F</td>\n",
       "    </tr>\n",
       "    <tr>\n",
       "      <th>2</th>\n",
       "      <td>2</td>\n",
       "      <td>200500000001</td>\n",
       "      <td>B02</td>\n",
       "      <td>Voiture</td>\n",
       "      <td>Indemne</td>\n",
       "      <td>Oui</td>\n",
       "      <td>Départementale</td>\n",
       "      <td>Non</td>\n",
       "      <td>M</td>\n",
       "    </tr>\n",
       "    <tr>\n",
       "      <th>3</th>\n",
       "      <td>3</td>\n",
       "      <td>200500000001</td>\n",
       "      <td>B02</td>\n",
       "      <td>Voiture</td>\n",
       "      <td>Indemne</td>\n",
       "      <td>Oui</td>\n",
       "      <td>Départementale</td>\n",
       "      <td>Non</td>\n",
       "      <td>M</td>\n",
       "    </tr>\n",
       "    <tr>\n",
       "      <th>4</th>\n",
       "      <td>4</td>\n",
       "      <td>200500000001</td>\n",
       "      <td>B02</td>\n",
       "      <td>Voiture</td>\n",
       "      <td>Indemne</td>\n",
       "      <td>Oui</td>\n",
       "      <td>Départementale</td>\n",
       "      <td>Non</td>\n",
       "      <td>M</td>\n",
       "    </tr>\n",
       "  </tbody>\n",
       "</table>\n",
       "</div>"
      ],
      "text/plain": [
       "   Unnamed: 0       Num_Acc num_veh vehicule      grav secu            road  \\\n",
       "0           0  200500000001     A01  Voiture  Blessure  Oui  Départementale   \n",
       "1           1  200500000001     B02  Voiture  Blessure  Oui  Départementale   \n",
       "2           2  200500000001     B02  Voiture   Indemne  Oui  Départementale   \n",
       "3           3  200500000001     B02  Voiture   Indemne  Oui  Départementale   \n",
       "4           4  200500000001     B02  Voiture   Indemne  Oui  Départementale   \n",
       "\n",
       "  pieton sexe  \n",
       "0    Non    M  \n",
       "1    Non    F  \n",
       "2    Non    M  \n",
       "3    Non    M  \n",
       "4    Non    M  "
      ]
     },
     "execution_count": 2,
     "metadata": {},
     "output_type": "execute_result"
    }
   ],
   "source": [
    "# Import datframe\n",
    "df = pd.read_csv('preprocessed_data.csv')\n",
    "\n",
    "# Show head\n",
    "df.head()"
   ]
  },
  {
   "cell_type": "markdown",
   "metadata": {},
   "source": [
    "## IV  - Sankey Diagram"
   ]
  },
  {
   "cell_type": "code",
   "execution_count": 3,
   "metadata": {
    "ExecuteTime": {
     "end_time": "2019-06-18T16:09:53.676080Z",
     "start_time": "2019-06-18T16:09:53.671144Z"
    }
   },
   "outputs": [],
   "source": [
    "# Dict source\n",
    "source_vehicule = {'Voiture':[0, 'rgb(253,168,90)', 'rgba(253,168,90, 1)', 'rgba(253,168,90, 0.5)', 'rgba(253,168,90, 0.1)'],\n",
    "                   'Moto':[1, 'rgb(119,59,117)', 'rgba(119,59,117, 1)', 'rgba(119,59,117, 0.5)', 'rgba(119,59,117, 0.1)'],\n",
    "                   'Vélo':[2, 'rgb(14,167,181)', 'rgba(14,167,181, 1)', 'rgba(14,167,181, 0.5)', 'rgba(14,167,181, 0.1)'],\n",
    "                   'Camion':[3, 'rgb(12,69,125)', 'rgba(12,69,125, 1)', 'rgba(12,69,125, 0.5)', 'rgba(12,69,125, 0.1)'],\n",
    "                   }\n",
    "\n",
    "\n",
    "source_injury = {'Décès':[4,'rgb(66,78,91)', 'rgba(66,78,91, 1)', 'rgba(66,78,91, 0.3)'],\n",
    "                 'Blessure':[5, 'rgb(209, 123, 166)', 'rgba(209, 123, 166, 1)',  'rgba(209, 123, 166, 0.3)'],\n",
    "                 'Indemne':[6, 'rgb(122,163,94)', 'rgba(122,163,94, 1)', 'rgba(122,163,94, 0.3)' ]}\n",
    "\n",
    "source_security = {'Non':[7, 'rgb(235,178,89)', 'Pas de sécurité'], \n",
    "                   'Oui':[8, 'rgb(138,207,188)', 'Sécurité']}\n",
    "\n",
    "source_obstacle = {'Oui':[9, 'rgb(128, 20, 7)', 'rgba(128, 20, 7, 0.4)', 'Piéton']}\n"
   ]
  },
  {
   "cell_type": "code",
   "execution_count": 4,
   "metadata": {
    "ExecuteTime": {
     "end_time": "2019-06-18T16:09:57.462735Z",
     "start_time": "2019-06-18T16:09:53.914422Z"
    }
   },
   "outputs": [],
   "source": [
    "# Build Sankey Source and target and node\n",
    "node = []\n",
    "source = []\n",
    "target = []\n",
    "value = []\n",
    "color = []\n",
    "link_color = []\n",
    "link_label = []\n",
    "\n",
    "\n",
    "for key_v in source_vehicule:\n",
    "\n",
    "    for i, key_i in enumerate(source_injury):\n",
    "         \n",
    "        # Link source \n",
    "        source.append(source_vehicule[key_v][0])\n",
    "\n",
    "        # Link target\n",
    "        target.append(source_injury[key_i][0])\n",
    "\n",
    "        # Link value \n",
    "        value.append(df[(df['vehicule'] == key_v) & (df['grav'] == key_i)].shape[0])\n",
    "\n",
    "        # Link color \n",
    "        link_color.append(source_vehicule[key_v][2 + i])\n",
    "\n",
    "        # Link label \n",
    "        link_label.append('Vehicule: {}<br>Gravité: {}'.format(key_v, key_i))\n",
    "        \n",
    "        \n",
    "for i, key_i in enumerate(source_injury):\n",
    "\n",
    "    # Security link\n",
    "    for j, key_s in enumerate(source_security):\n",
    "\n",
    "        # Link source \n",
    "        source.append(source_injury[key_i][0])\n",
    "\n",
    "        # Link target\n",
    "        target.append(source_security[key_s][0])\n",
    "\n",
    "        # Link value \n",
    "        value.append(df[(df['secu'] == key_s) & (df['grav'] == key_i)].shape[0])\n",
    "\n",
    "        # Link color \n",
    "        link_color.append(source_injury[key_i][j + 2])\n",
    "\n",
    "        # Link label \n",
    "        link_label.append('Gravité: {}<br>Utilisation de la sécurité: {}'.format(key_i, key_s))\n",
    "        \n",
    "    # Obstacle link\n",
    "    if key_i in ['Décès', 'Blessure']:\n",
    "        for k, key_o in enumerate(source_obstacle):\n",
    "\n",
    "            # Link source \n",
    "            source.append(source_injury[key_i][0])\n",
    "\n",
    "            # Link target\n",
    "            target.append(source_obstacle[key_o][0])\n",
    "\n",
    "            # Link value \n",
    "            value.append(df[(df['secu'] == key_s) & (df['grav'] == key_i) & (df['pieton'] == key_o)].shape[0])\n",
    "\n",
    "            # Link color \n",
    "            link_color.append(source_obstacle[key_o][2])\n",
    "\n",
    "            # Link label \n",
    "            link_label.append('Gravité: {}<br>Utilisation de la sécurité: {}<br>Piéton: {}'.format(key_i, key_s, key_o))\n",
    "\n",
    "\n",
    "\n",
    "# Create node Label and colors for vehicule\n",
    "for key_v in source_vehicule:\n",
    "    node.append(key_v)\n",
    "    color.append(source_vehicule[key_v][1])\n",
    "    \n",
    "# Create node label and colors for injury\n",
    "for key_i in source_injury:\n",
    "    node.append(key_i)\n",
    "    color.append(source_injury[key_i][1])\n",
    "    \n",
    "# Create node Label and colors for security\n",
    "for key_s in source_security:\n",
    "    node.append(source_security[key_s][-1])\n",
    "    color.append(source_security[key_s][1])\n",
    "    \n",
    "# Create node Label and colors for pedestrian\n",
    "for key_o in source_obstacle:\n",
    "    node.append(source_obstacle[key_o][-1])\n",
    "    color.append(source_obstacle[key_o][1])\n"
   ]
  },
  {
   "cell_type": "code",
   "execution_count": 5,
   "metadata": {
    "ExecuteTime": {
     "end_time": "2019-06-18T16:09:57.477035Z",
     "start_time": "2019-06-18T16:09:57.465001Z"
    }
   },
   "outputs": [],
   "source": [
    "# Build datframe to feed sankey diagram\n",
    "sankey = pd.DataFrame(columns=['Source','Target','Value','Link_Color', 'Link_Label'])\n",
    "sankey['Source'] = source\n",
    "sankey['Target'] = target\n",
    "sankey['Value'] = value\n",
    "sankey['Link_Color'] = link_color\n",
    "sankey['Link_Label'] = link_label\n",
    "\n",
    "sankey.to_csv('complete_dataset.csv',';')\n"
   ]
  },
  {
   "cell_type": "code",
   "execution_count": 9,
   "metadata": {
    "ExecuteTime": {
     "end_time": "2019-06-18T16:11:22.979221Z",
     "start_time": "2019-06-18T16:11:21.493916Z"
    },
    "scrolled": false
   },
   "outputs": [
    {
     "name": "stderr",
     "output_type": "stream",
     "text": [
      "/anaconda3/envs/msbgd/lib/python3.6/site-packages/IPython/core/display.py:689: UserWarning:\n",
      "\n",
      "Consider using IPython.display.IFrame instead\n",
      "\n"
     ]
    },
    {
     "data": {
      "text/html": [
       "<iframe id=\"igraph\" scrolling=\"no\" style=\"border:none;\" seamless=\"seamless\" src=\"https://plot.ly/~anatoli.db/210.embed\" height=\"800px\" width=\"1000px\"></iframe>"
      ],
      "text/plain": [
       "<chart_studio.tools.PlotlyDisplay object>"
      ]
     },
     "execution_count": 9,
     "metadata": {},
     "output_type": "execute_result"
    }
   ],
   "source": [
    "data_trace = dict(\n",
    "    type='sankey',\n",
    "    domain = dict(\n",
    "      x =  [0,1],\n",
    "      y =  [0,1]\n",
    "    ),\n",
    "    orientation = \"h\",\n",
    "    valueformat = \".0f\",\n",
    "    \n",
    "    node = dict(\n",
    "      pad = 40,\n",
    "      thickness = 40,\n",
    "      line = dict(\n",
    "        color = \"black\",\n",
    "        width = 0.5\n",
    "      ),\n",
    "      label =  node,\n",
    "      color = color\n",
    "    ),\n",
    "    \n",
    "    link = dict(\n",
    "      source = sankey['Source'].dropna(axis=0, how='any'),\n",
    "      target = sankey['Target'].dropna(axis=0, how='any'),\n",
    "      value = sankey['Value'].dropna(axis=0, how='any'),\n",
    "      color = sankey['Link_Color'].dropna(axis=0, how='any'),\n",
    "      label = sankey['Link_Label'].dropna(axis=0, how='any')\n",
    "  )\n",
    ")\n",
    "\n",
    "layout =  dict(\n",
    "    title = \"Accidents de la route en France entre 2006 et 2018<br><i>Sankey schéma</i>\",\n",
    "    height = 800,\n",
    "    width = 1000,\n",
    "    font = dict(\n",
    "      size = 15\n",
    "    ),    \n",
    ")\n",
    "\n",
    "fig = dict(data=[data_trace], layout=layout)\n",
    "py.iplot(fig, validate=False)"
   ]
  },
  {
   "cell_type": "code",
   "execution_count": null,
   "metadata": {},
   "outputs": [],
   "source": []
  }
 ],
 "metadata": {
  "kernelspec": {
   "display_name": "Python 3",
   "language": "python",
   "name": "python3"
  },
  "language_info": {
   "codemirror_mode": {
    "name": "ipython",
    "version": 3
   },
   "file_extension": ".py",
   "mimetype": "text/x-python",
   "name": "python",
   "nbconvert_exporter": "python",
   "pygments_lexer": "ipython3",
   "version": "3.6.7"
  }
 },
 "nbformat": 4,
 "nbformat_minor": 2
}
