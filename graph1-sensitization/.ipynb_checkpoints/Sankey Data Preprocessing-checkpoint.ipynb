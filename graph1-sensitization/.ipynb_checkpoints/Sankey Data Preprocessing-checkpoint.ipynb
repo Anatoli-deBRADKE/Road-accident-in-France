{
 "cells": [
  {
   "cell_type": "markdown",
   "metadata": {},
   "source": [
    "<center><h1>Accidents Corporels de la Route en France</h1></center>\n",
    "<br>\n",
    "<center><i>Projet Data Visualization - IGR204</i></center>\n",
    "<center><i>Télécom ParisTech</i></center>"
   ]
  },
  {
   "cell_type": "markdown",
   "metadata": {},
   "source": [
    "## General imports"
   ]
  },
  {
   "cell_type": "code",
   "execution_count": null,
   "metadata": {
    "ExecuteTime": {
     "start_time": "2019-06-18T16:00:34.385Z"
    }
   },
   "outputs": [],
   "source": [
    "# General\n",
    "import json\n",
    "import numpy as np\n",
    "import pandas as pd\n",
    "import itertools\n",
    "from datetime import datetime, timedelta\n",
    "import warnings\n",
    "warnings.filterwarnings('ignore')\n",
    "\n",
    "# Graph\n",
    "import matplotlib.pyplot as plt\n",
    "import matplotlib.offsetbox as offsetbox\n",
    "import seaborn as sns\n",
    "import plotly\n",
    "import plotly.plotly as py\n",
    "plotly.tools.set_credentials_file(username='anatoli.db', api_key='xWsOWcl2vbDBL2BK4yYL')"
   ]
  },
  {
   "cell_type": "markdown",
   "metadata": {},
   "source": [
    "## Import data"
   ]
  },
  {
   "cell_type": "code",
   "execution_count": null,
   "metadata": {
    "ExecuteTime": {
     "start_time": "2019-06-18T16:00:34.390Z"
    }
   },
   "outputs": [],
   "source": [
    "# Start and End date\n",
    "start_date = 2005\n",
    "end_date   = 2018\n",
    "\n",
    "# Data path directory\n",
    "path_dir = 'Accidents/'\n",
    "\n",
    "# Initialize list\n",
    "lieux     = []\n",
    "usagers   = []\n",
    "vehicules = []\n",
    "carac     = []\n",
    "\n",
    "# Import all files\n",
    "for i in range(start_date, end_date) :\n",
    "    lieux.append(pd.read_csv(path_dir + 'lieux_' + str(i) + '.csv'))\n",
    "    usagers.append(pd.read_csv(path_dir + 'usagers_' + str(i) + '.csv'))\n",
    "    vehicules.append(pd.read_csv(path_dir + 'vehicules_' + str(i) + '.csv'))\n",
    "    try : \n",
    "        carac.append(pd.read_csv(path_dir + 'caracteristiques_' + str(i) + '.csv', encoding='latin-1'))\n",
    "    except :\n",
    "        carac.append(pd.read_csv(path_dir + 'caracteristiques_' + str(i) + '.csv', encoding='latin-1', sep = '\\t'))\n",
    "\n",
    "# Concatenate all files into DataFrame\n",
    "df_lieux     = pd.concat(lieux, axis=0, ignore_index=True)\n",
    "df_usagers   = pd.concat(usagers, axis=0, ignore_index=True)\n",
    "df_vehicules = pd.concat(vehicules, axis=0, ignore_index=True)\n",
    "df_carac     = pd.concat(carac, axis=0, ignore_index=True)\n",
    "\n",
    "# Print details\n",
    "print(\"IMPORT DONE: '{}' contains {} rows and {} columns\".format('lieux', df_lieux.shape[0], df_lieux.shape[1]))\n",
    "print(\"IMPORT DONE: '{}' contains {} rows and {} columns\".format('usagers', df_usagers.shape[0], df_usagers.shape[1]))\n",
    "print(\"IMPORT DONE: '{}' contains {} rows and {} columns\".format('vehicules', df_vehicules.shape[0], df_vehicules.shape[1]))\n",
    "print(\"IMPORT DONE: '{}' contains {} rows and {} columns\".format('caracteristiques', df_carac.shape[0], df_carac.shape[1]))"
   ]
  },
  {
   "cell_type": "markdown",
   "metadata": {},
   "source": [
    "# I - Vehicule"
   ]
  },
  {
   "cell_type": "markdown",
   "metadata": {},
   "source": [
    "## I - a) Vehicule mapping"
   ]
  },
  {
   "cell_type": "code",
   "execution_count": null,
   "metadata": {
    "ExecuteTime": {
     "start_time": "2019-06-18T16:00:34.392Z"
    }
   },
   "outputs": [],
   "source": [
    "dict_vehicule = {1:'Vélo',\n",
    "                    2:'Moto', \n",
    "                    3:'Voiture',\n",
    "                    4:'Moto',\n",
    "                    5:'Moto',\n",
    "                    6:'Moto',\n",
    "                    7:'Voiture',\n",
    "                    8:'Voiture',\n",
    "                    9:'Voiture',\n",
    "                    10:'Camion',\n",
    "                    11:'Camion',\n",
    "                    12:'Camion',\n",
    "                    13:'Camion',\n",
    "                    14:'Camion',\n",
    "                    15:'Camion',\n",
    "                    16:'Autres',\n",
    "                    17:'Autres',\n",
    "                    18:'Autres',\n",
    "                    19:'Autres',\n",
    "                    20:'Autres',\n",
    "                    21:'Autres',\n",
    "                    30:'Moto',\n",
    "                    31:'Moto',\n",
    "                    32:'Moto',\n",
    "                    33:'Moto',\n",
    "                    34:'Moto',\n",
    "                    35:'Moto',\n",
    "                    36:'Moto',\n",
    "                    37:'Autres',\n",
    "                    38:'Autres',\n",
    "                    39:'Autres',\n",
    "                    40:'Autres',\n",
    "                    99:'Autres'}\n",
    "\n",
    "# Vehicule mapping\n",
    "df_vehicules['catv'] = df_vehicules['catv'].map(dict_vehicule)\n",
    "\n",
    "# Drop value 'autres'\n",
    "df_vehicules = df_vehicules[(df_vehicules['catv'] != 'Autres')]"
   ]
  },
  {
   "cell_type": "markdown",
   "metadata": {},
   "source": [
    "## I - b) Obstacle mapping"
   ]
  },
  {
   "cell_type": "markdown",
   "metadata": {
    "ExecuteTime": {
     "end_time": "2019-06-13T11:50:30.313507Z",
     "start_time": "2019-06-13T11:50:29.826247Z"
    }
   },
   "source": [
    "#Remove accident implying animals as obstacle\n",
    "obs_to_remove = ['5', '6', '9']\n",
    "df_vehicules = df_vehicules[~df_vehicules['obsm'].isin(obs_to_remove)]\n",
    "\n",
    "#Consider Rail vehicle as vehicle obstacle\n",
    "df_vehicules['obsm'] = np.where(df_vehicules['obsm']  == 4, 2, df_vehicules['obsm'])\n",
    "\n",
    "#Add accident implying fixed obstacle (0 - Aucun, 1 - Piéton , 2 - Véhicule, 3 - Obstacle fixe)\n",
    "df_vehicules['obsm'] = np.where((df_vehicules['obsm'] == 0) & (df_vehicules['obs'] > 0), 3 ,df_vehicules['obsm'])\n",
    "\n",
    "#Obstacle mapping\n",
    "dict_obstacle = {0:'Aucun', 1:'Piéton', 2:'Obstacle (fixe ou mobile)', 3:'Obstacle (fixe ou mobile)'}\n",
    "df_vehicules['obsm'] = df_vehicules['obsm'].map(dict_obstacle)   "
   ]
  },
  {
   "cell_type": "markdown",
   "metadata": {},
   "source": [
    "## I - b bis) Piéton"
   ]
  },
  {
   "cell_type": "code",
   "execution_count": null,
   "metadata": {
    "ExecuteTime": {
     "start_time": "2019-06-18T16:00:34.394Z"
    }
   },
   "outputs": [],
   "source": [
    "# Remove accident implying animals as obstacle\n",
    "obs_to_remove = ['5', '6', '9']\n",
    "df_vehicules = df_vehicules[~df_vehicules['obsm'].isin(obs_to_remove)]\n",
    "\n",
    "# Binary variable for pedestrian obstacle\n",
    "\n",
    "# Consider Rail vehicle as vehicle obstacle\n",
    "df_vehicules['obsm'] = np.where(df_vehicules['obsm']  != 1, 0, df_vehicules['obsm'])\n",
    "\n",
    "# Obstacle mapping\n",
    "dict_obstacle = {0:'Non', 1:'Oui'}\n",
    "df_vehicules['obsm'] = df_vehicules['obsm'].map(dict_obstacle)   "
   ]
  },
  {
   "cell_type": "markdown",
   "metadata": {},
   "source": [
    "## I - c) Remove inconsistent columns"
   ]
  },
  {
   "cell_type": "code",
   "execution_count": null,
   "metadata": {
    "ExecuteTime": {
     "start_time": "2019-06-18T16:00:34.396Z"
    }
   },
   "outputs": [],
   "source": [
    "# Drop columns\n",
    "col_to_remove = ['senc', 'obs', 'occutc', 'manv', 'choc']\n",
    "df_vehicules = df_vehicules.drop(col_to_remove, axis=1)"
   ]
  },
  {
   "cell_type": "markdown",
   "metadata": {},
   "source": [
    "## I - d) Rename Columns"
   ]
  },
  {
   "cell_type": "code",
   "execution_count": null,
   "metadata": {
    "ExecuteTime": {
     "start_time": "2019-06-18T16:00:34.398Z"
    }
   },
   "outputs": [],
   "source": [
    "# Rename columns\n",
    "df_vehicules.columns = ['Num_Acc', 'vehicule', 'pieton', 'num_veh']\n",
    "\n",
    "# Re order columns\n",
    "df_vehicules = df_vehicules[['Num_Acc', 'num_veh', 'vehicule', 'pieton']]\n",
    "\n",
    "# Show table\n",
    "df_vehicules.head()"
   ]
  },
  {
   "cell_type": "markdown",
   "metadata": {
    "ExecuteTime": {
     "end_time": "2019-06-07T12:04:52.979533Z",
     "start_time": "2019-06-07T12:04:52.977018Z"
    }
   },
   "source": [
    "# II - Usagers"
   ]
  },
  {
   "cell_type": "markdown",
   "metadata": {
    "ExecuteTime": {
     "end_time": "2019-06-07T12:11:01.552726Z",
     "start_time": "2019-06-07T12:11:01.543276Z"
    }
   },
   "source": [
    "## II - a) Remove inconsistent columns"
   ]
  },
  {
   "cell_type": "code",
   "execution_count": null,
   "metadata": {
    "ExecuteTime": {
     "start_time": "2019-06-18T16:00:34.400Z"
    }
   },
   "outputs": [],
   "source": [
    "# emove inconsistent columns\n",
    "col_to_remove = ['place', 'an_nais', 'trajet', 'locp', 'actp', 'etatp']\n",
    "df_usagers = df_usagers.drop(col_to_remove, axis=1)"
   ]
  },
  {
   "cell_type": "markdown",
   "metadata": {},
   "source": [
    "## II - b) Severity of the accident mapping"
   ]
  },
  {
   "cell_type": "code",
   "execution_count": null,
   "metadata": {
    "ExecuteTime": {
     "start_time": "2019-06-18T16:00:34.402Z"
    }
   },
   "outputs": [],
   "source": [
    "# Group injury\n",
    "df_usagers['grav'] = np.where(df_usagers['grav']  == 4, 3, df_usagers['grav'])\n",
    "\n",
    "# Severity mapping\n",
    "dict_grav = {1:'Indemne', 2:'Décès', 3:'Blessure'}\n",
    "df_usagers['grav'] = df_usagers['grav'].map(dict_grav)"
   ]
  },
  {
   "cell_type": "markdown",
   "metadata": {},
   "source": [
    "## II - c) Use of safety equipment"
   ]
  },
  {
   "cell_type": "code",
   "execution_count": null,
   "metadata": {
    "ExecuteTime": {
     "start_time": "2019-06-18T16:00:34.403Z"
    }
   },
   "outputs": [],
   "source": [
    "# Split column secu content\n",
    "df_usagers[\"secu\"] = df_usagers[\"secu\"].astype('str')\n",
    "df_usagers[\"secu\"] = df_usagers[\"secu\"].apply(lambda x : x[-3])\n",
    "\n",
    "# Convert missing values ('n') to not determinable data ('3')\n",
    "df_usagers['secu'] = np.where(df_usagers['secu']  == 'n', '3', df_usagers['secu'])\n",
    "\n",
    "# Concatenate non determinable data and no safety equipment\n",
    "df_usagers['secu'] = np.where(df_usagers['secu']  == '0', '3', df_usagers['secu'])\n",
    "\n",
    "# Keep only rows with '1' and '2 values'\n",
    "df_usagers = df_usagers[(df_usagers['secu'] != '3')]\n",
    "\n",
    "# Safery label mapping\n",
    "dict_secu = {'1':'Oui', '2':'Non', '3':'Indéterminé'}\n",
    "df_usagers['secu'] = df_usagers['secu'].map(dict_secu)   "
   ]
  },
  {
   "cell_type": "markdown",
   "metadata": {
    "ExecuteTime": {
     "end_time": "2019-06-07T12:58:50.818978Z",
     "start_time": "2019-06-07T12:58:45.863900Z"
    }
   },
   "source": [
    "## II - d) Pedestrian category"
   ]
  },
  {
   "cell_type": "code",
   "execution_count": null,
   "metadata": {
    "ExecuteTime": {
     "start_time": "2019-06-18T16:00:34.406Z"
    }
   },
   "outputs": [],
   "source": [
    "# Group pedestrian category\n",
    "df_usagers['catu'] = np.where(df_usagers['catu']  == 4, 3, df_usagers['catu'])"
   ]
  },
  {
   "cell_type": "markdown",
   "metadata": {},
   "source": [
    "## II - e) Sexe"
   ]
  },
  {
   "cell_type": "code",
   "execution_count": null,
   "metadata": {
    "ExecuteTime": {
     "start_time": "2019-06-18T16:00:34.407Z"
    }
   },
   "outputs": [],
   "source": [
    "# Sexe\n",
    "df_usagers['sexe'] = np.where(df_usagers['sexe']  == 1, 'M', 'F')"
   ]
  },
  {
   "cell_type": "markdown",
   "metadata": {},
   "source": [
    "## II - f) Rename Columns"
   ]
  },
  {
   "cell_type": "code",
   "execution_count": null,
   "metadata": {
    "ExecuteTime": {
     "start_time": "2019-06-18T16:00:34.409Z"
    }
   },
   "outputs": [],
   "source": [
    "# Re order columns\n",
    "df_usagers = df_usagers[['Num_Acc', 'num_veh', 'sexe', 'secu', 'grav']]\n",
    "\n",
    "# Show table\n",
    "df_usagers.head()"
   ]
  },
  {
   "cell_type": "markdown",
   "metadata": {},
   "source": [
    "## III - Accident location"
   ]
  },
  {
   "cell_type": "code",
   "execution_count": null,
   "metadata": {
    "ExecuteTime": {
     "start_time": "2019-06-18T16:00:34.412Z"
    }
   },
   "outputs": [],
   "source": [
    "# Keep only Accident ID and Road category\n",
    "df_lieux = df_lieux[['Num_Acc', 'catr']]\n",
    "\n",
    "# Change colonnes names\n",
    "df_lieux.columns = ['Num_Acc', 'road']\n",
    "\n",
    "# Drop value 5, 6, 9\n",
    "df_lieux = df_lieux[(df_lieux['road'] < 5)]\n",
    "\n",
    "# Road category mapping\n",
    "dict_road = {1:'Autoroute',2:'Nationale', 3:'Départementale', 4:'Communale', 5:'Hors réseau public', 6:'Parking', 9:'Autre'}\n",
    "\n",
    "# Vehicule mapping\n",
    "df_lieux['road'] = df_lieux['road'].map(dict_road)\n",
    "\n",
    "# Show table\n",
    "df_lieux.head()"
   ]
  },
  {
   "cell_type": "markdown",
   "metadata": {},
   "source": [
    "# IV - Merge Dataframe"
   ]
  },
  {
   "cell_type": "code",
   "execution_count": null,
   "metadata": {
    "ExecuteTime": {
     "start_time": "2019-06-18T16:00:34.414Z"
    }
   },
   "outputs": [],
   "source": [
    "# Merge dataframe\n",
    "df = pd.merge(df_usagers, df_vehicules, how='left', on=['Num_Acc', 'num_veh'])\n",
    "df = pd.merge(df, df_lieux, how='left', on=['Num_Acc'])\n",
    "\n",
    "# Re order columns\n",
    "df = df[['Num_Acc', 'num_veh', 'vehicule', 'grav', 'secu', 'road', 'pieton', 'sexe']]\n",
    "\n",
    "# Drop NA values\n",
    "df = df.dropna()\n",
    "\n",
    "# Show table\n",
    "df.head()"
   ]
  },
  {
   "cell_type": "markdown",
   "metadata": {},
   "source": [
    "## V - Save As Dataframe"
   ]
  },
  {
   "cell_type": "code",
   "execution_count": null,
   "metadata": {
    "ExecuteTime": {
     "start_time": "2019-06-18T16:00:34.416Z"
    }
   },
   "outputs": [],
   "source": [
    "df.to_csv('preprocessed_data.csv')"
   ]
  }
 ],
 "metadata": {
  "kernelspec": {
   "display_name": "Python 3",
   "language": "python",
   "name": "python3"
  },
  "language_info": {
   "codemirror_mode": {
    "name": "ipython",
    "version": 3
   },
   "file_extension": ".py",
   "mimetype": "text/x-python",
   "name": "python",
   "nbconvert_exporter": "python",
   "pygments_lexer": "ipython3",
   "version": "3.6.7"
  }
 },
 "nbformat": 4,
 "nbformat_minor": 2
}
