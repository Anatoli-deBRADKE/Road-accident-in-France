{
 "cells": [
  {
   "cell_type": "markdown",
   "metadata": {},
   "source": [
    "## Part 3 - Monitoring roads"
   ]
  },
  {
   "cell_type": "markdown",
   "metadata": {},
   "source": [
    "#### Imports"
   ]
  },
  {
   "cell_type": "code",
   "execution_count": 1,
   "metadata": {
    "ExecuteTime": {
     "end_time": "2019-06-19T06:56:57.264960Z",
     "start_time": "2019-06-19T06:56:56.104073Z"
    }
   },
   "outputs": [
    {
     "name": "stderr",
     "output_type": "stream",
     "text": [
      "/anaconda3/lib/python3.6/site-packages/requests/__init__.py:80: RequestsDependencyWarning: urllib3 (1.21.1) or chardet (2.3.0) doesn't match a supported version!\n",
      "  RequestsDependencyWarning)\n"
     ]
    }
   ],
   "source": [
    "import pandas as pd\n",
    "import numpy as np\n",
    "import folium\n",
    "import sys\n",
    "from IPython.display import display\n",
    "import ipywidgets as widgets"
   ]
  },
  {
   "cell_type": "markdown",
   "metadata": {},
   "source": [
    "### Load data"
   ]
  },
  {
   "cell_type": "markdown",
   "metadata": {},
   "source": [
    "#### Accidents data"
   ]
  },
  {
   "cell_type": "code",
   "execution_count": 2,
   "metadata": {
    "ExecuteTime": {
     "end_time": "2019-06-19T06:57:15.313535Z",
     "start_time": "2019-06-19T06:57:00.581484Z"
    }
   },
   "outputs": [
    {
     "data": {
      "text/html": [
       "<div>\n",
       "<style scoped>\n",
       "    .dataframe tbody tr th:only-of-type {\n",
       "        vertical-align: middle;\n",
       "    }\n",
       "\n",
       "    .dataframe tbody tr th {\n",
       "        vertical-align: top;\n",
       "    }\n",
       "\n",
       "    .dataframe thead th {\n",
       "        text-align: right;\n",
       "    }\n",
       "</style>\n",
       "<table border=\"1\" class=\"dataframe\">\n",
       "  <thead>\n",
       "    <tr style=\"text-align: right;\">\n",
       "      <th></th>\n",
       "      <th>Num_Acc</th>\n",
       "      <th>an</th>\n",
       "      <th>mois</th>\n",
       "      <th>jour</th>\n",
       "      <th>hrmn</th>\n",
       "      <th>lum</th>\n",
       "      <th>agg</th>\n",
       "      <th>atm</th>\n",
       "      <th>col</th>\n",
       "      <th>com</th>\n",
       "      <th>gps</th>\n",
       "      <th>lat</th>\n",
       "      <th>long</th>\n",
       "      <th>dep</th>\n",
       "    </tr>\n",
       "  </thead>\n",
       "  <tbody>\n",
       "    <tr>\n",
       "      <th>0</th>\n",
       "      <td>200500000001</td>\n",
       "      <td>5</td>\n",
       "      <td>1</td>\n",
       "      <td>12</td>\n",
       "      <td>1900</td>\n",
       "      <td>3</td>\n",
       "      <td>2</td>\n",
       "      <td>1.0</td>\n",
       "      <td>3.0</td>\n",
       "      <td>11.0</td>\n",
       "      <td>M</td>\n",
       "      <td>5051500.0</td>\n",
       "      <td>294400</td>\n",
       "      <td>590</td>\n",
       "    </tr>\n",
       "    <tr>\n",
       "      <th>1</th>\n",
       "      <td>200500000002</td>\n",
       "      <td>5</td>\n",
       "      <td>1</td>\n",
       "      <td>21</td>\n",
       "      <td>1600</td>\n",
       "      <td>1</td>\n",
       "      <td>2</td>\n",
       "      <td>1.0</td>\n",
       "      <td>1.0</td>\n",
       "      <td>51.0</td>\n",
       "      <td>M</td>\n",
       "      <td>5053700.0</td>\n",
       "      <td>280200</td>\n",
       "      <td>590</td>\n",
       "    </tr>\n",
       "    <tr>\n",
       "      <th>2</th>\n",
       "      <td>200500000003</td>\n",
       "      <td>5</td>\n",
       "      <td>1</td>\n",
       "      <td>21</td>\n",
       "      <td>1845</td>\n",
       "      <td>3</td>\n",
       "      <td>1</td>\n",
       "      <td>2.0</td>\n",
       "      <td>1.0</td>\n",
       "      <td>51.0</td>\n",
       "      <td>M</td>\n",
       "      <td>5054600.0</td>\n",
       "      <td>280000</td>\n",
       "      <td>590</td>\n",
       "    </tr>\n",
       "    <tr>\n",
       "      <th>3</th>\n",
       "      <td>200500000004</td>\n",
       "      <td>5</td>\n",
       "      <td>1</td>\n",
       "      <td>4</td>\n",
       "      <td>1615</td>\n",
       "      <td>1</td>\n",
       "      <td>1</td>\n",
       "      <td>1.0</td>\n",
       "      <td>5.0</td>\n",
       "      <td>82.0</td>\n",
       "      <td>M</td>\n",
       "      <td>5098700.0</td>\n",
       "      <td>240800</td>\n",
       "      <td>590</td>\n",
       "    </tr>\n",
       "    <tr>\n",
       "      <th>4</th>\n",
       "      <td>200500000005</td>\n",
       "      <td>5</td>\n",
       "      <td>1</td>\n",
       "      <td>10</td>\n",
       "      <td>1945</td>\n",
       "      <td>3</td>\n",
       "      <td>1</td>\n",
       "      <td>3.0</td>\n",
       "      <td>6.0</td>\n",
       "      <td>478.0</td>\n",
       "      <td>M</td>\n",
       "      <td>5096400.0</td>\n",
       "      <td>247500</td>\n",
       "      <td>590</td>\n",
       "    </tr>\n",
       "  </tbody>\n",
       "</table>\n",
       "</div>"
      ],
      "text/plain": [
       "        Num_Acc  an  mois  jour  hrmn  lum  agg  atm  col    com gps  \\\n",
       "0  200500000001   5     1    12  1900    3    2  1.0  3.0   11.0   M   \n",
       "1  200500000002   5     1    21  1600    1    2  1.0  1.0   51.0   M   \n",
       "2  200500000003   5     1    21  1845    3    1  2.0  1.0   51.0   M   \n",
       "3  200500000004   5     1     4  1615    1    1  1.0  5.0   82.0   M   \n",
       "4  200500000005   5     1    10  1945    3    1  3.0  6.0  478.0   M   \n",
       "\n",
       "         lat    long  dep  \n",
       "0  5051500.0  294400  590  \n",
       "1  5053700.0  280200  590  \n",
       "2  5054600.0  280000  590  \n",
       "3  5098700.0  240800  590  \n",
       "4  5096400.0  247500  590  "
      ]
     },
     "execution_count": 2,
     "metadata": {},
     "output_type": "execute_result"
    }
   ],
   "source": [
    "def load_dataset():  \n",
    "    veh_cols = ['Num_Acc', 'num_veh', 'senc', 'catv', 'obs', 'obsm', 'choc']\n",
    "    usa_cols = ['Num_Acc', 'num_veh', 'place', 'catu', 'grav', 'sexe', 'an_nais', 'trajet', 'secu', 'locp']\n",
    "    lie_cols = ['Num_Acc', 'catr', 'circ', 'nbv', 'vosp', 'prof', 'plan', 'lartpc', 'larrout', 'surf', 'infra', 'situ']\n",
    "    car_cols = ['Num_Acc', 'jour', 'mois', 'an', 'hrmn', 'lum', 'dep', 'com', 'agg', 'atm', 'col', 'gps', 'lat', 'long']\n",
    "\n",
    "    veh = pd.read_csv('../Accidents/vehicules_2005.csv', usecols=veh_cols)\n",
    "    usa = pd.read_csv('../Accidents/usagers_2005.csv', usecols=usa_cols)\n",
    "    lie = pd.read_csv('../Accidents/lieux_2005.csv', usecols=lie_cols)\n",
    "    car = pd.read_csv('../Accidents/caracteristiques_2005.csv', encoding='latin-1', usecols=car_cols)\n",
    "\n",
    "    for i in range(2006, 2018, 1):\n",
    "        lie = pd.concat([lie, pd.read_csv('../Accidents/lieux_' + str(i) + '.csv', usecols=lie_cols)], axis=0)\n",
    "        usa = pd.concat([usa, pd.read_csv('../Accidents/usagers_' + str(i) + '.csv', usecols=usa_cols)], axis=0)\n",
    "        veh = pd.concat([veh, pd.read_csv('../Accidents/vehicules_' + str(i) + '.csv', usecols=veh_cols)], axis=0)\n",
    "        try:\n",
    "            car = pd.concat([car, pd.read_csv('../Accidents/caracteristiques_' + str(i) + '.csv',\n",
    "                                              encoding='latin-1', usecols=car_cols)], axis=0)\n",
    "        except:\n",
    "            car = pd.concat(\n",
    "                [car, pd.read_csv('../Accidents/caracteristiques_' + str(i) + '.csv', usecols=car_cols,\n",
    "                                  encoding='latin-1', sep='\\t')], axis=0)\n",
    "            \n",
    "    return veh, usa, car, lie\n",
    "\n",
    "veh, usa, car, lie = load_dataset()\n",
    "\n",
    "car.head()"
   ]
  },
  {
   "cell_type": "markdown",
   "metadata": {},
   "source": [
    "#### Correspondance data\n",
    "\n",
    "With this table, we have a correspondance between communal code in our accidents dataset, and the postal code, which is more convenient to identify a city."
   ]
  },
  {
   "cell_type": "code",
   "execution_count": 5,
   "metadata": {
    "ExecuteTime": {
     "end_time": "2019-06-19T06:59:45.717105Z",
     "start_time": "2019-06-19T06:59:45.424204Z"
    }
   },
   "outputs": [
    {
     "data": {
      "text/html": [
       "<div>\n",
       "<style scoped>\n",
       "    .dataframe tbody tr th:only-of-type {\n",
       "        vertical-align: middle;\n",
       "    }\n",
       "\n",
       "    .dataframe tbody tr th {\n",
       "        vertical-align: top;\n",
       "    }\n",
       "\n",
       "    .dataframe thead th {\n",
       "        text-align: right;\n",
       "    }\n",
       "</style>\n",
       "<table border=\"1\" class=\"dataframe\">\n",
       "  <thead>\n",
       "    <tr style=\"text-align: right;\">\n",
       "      <th></th>\n",
       "      <th>Geo Point</th>\n",
       "      <th>CODE_COM</th>\n",
       "      <th>INSEE_COM</th>\n",
       "      <th>NOM_COM</th>\n",
       "      <th>SUPERFICIE</th>\n",
       "      <th>POPULATION</th>\n",
       "      <th>CODE_DEPT</th>\n",
       "      <th>NOM_DEPT</th>\n",
       "      <th>CODE_REG</th>\n",
       "      <th>NOM_REG</th>\n",
       "      <th>Libelle_acheminement</th>\n",
       "      <th>Nom_commune</th>\n",
       "    </tr>\n",
       "    <tr>\n",
       "      <th>Code_postal</th>\n",
       "      <th></th>\n",
       "      <th></th>\n",
       "      <th></th>\n",
       "      <th></th>\n",
       "      <th></th>\n",
       "      <th></th>\n",
       "      <th></th>\n",
       "      <th></th>\n",
       "      <th></th>\n",
       "      <th></th>\n",
       "      <th></th>\n",
       "      <th></th>\n",
       "    </tr>\n",
       "  </thead>\n",
       "  <tbody>\n",
       "    <tr>\n",
       "      <th>95450.0</th>\n",
       "      <td>49.0848358031,1.9748748362</td>\n",
       "      <td>2</td>\n",
       "      <td>95002</td>\n",
       "      <td>ABLEIGES</td>\n",
       "      <td>792.0</td>\n",
       "      <td>933</td>\n",
       "      <td>95</td>\n",
       "      <td>VAL-D'OISE</td>\n",
       "      <td>11</td>\n",
       "      <td>ILE-DE-FRANCE</td>\n",
       "      <td>ABLEIGES</td>\n",
       "      <td>ABLEIGES</td>\n",
       "    </tr>\n",
       "    <tr>\n",
       "      <th>76280.0</th>\n",
       "      <td>49.6097472297,0.241445095242</td>\n",
       "      <td>716</td>\n",
       "      <td>76716</td>\n",
       "      <td>TURRETOT</td>\n",
       "      <td>612.0</td>\n",
       "      <td>1511</td>\n",
       "      <td>76</td>\n",
       "      <td>SEINE-MARITIME</td>\n",
       "      <td>28</td>\n",
       "      <td>NORMANDIE</td>\n",
       "      <td>TURRETOT</td>\n",
       "      <td>TURRETOT</td>\n",
       "    </tr>\n",
       "    <tr>\n",
       "      <th>76690.0</th>\n",
       "      <td>49.6093542995,1.07016467145</td>\n",
       "      <td>105</td>\n",
       "      <td>76105</td>\n",
       "      <td>LE BOCASSE</td>\n",
       "      <td>860.0</td>\n",
       "      <td>707</td>\n",
       "      <td>76</td>\n",
       "      <td>SEINE-MARITIME</td>\n",
       "      <td>28</td>\n",
       "      <td>NORMANDIE</td>\n",
       "      <td>LE BOCASSE</td>\n",
       "      <td>LE BOCASSE</td>\n",
       "    </tr>\n",
       "    <tr>\n",
       "      <th>10290.0</th>\n",
       "      <td>48.3605004241,3.59036233813</td>\n",
       "      <td>54</td>\n",
       "      <td>10054</td>\n",
       "      <td>BOURDENAY</td>\n",
       "      <td>1856.0</td>\n",
       "      <td>128</td>\n",
       "      <td>10</td>\n",
       "      <td>AUBE</td>\n",
       "      <td>44</td>\n",
       "      <td>ALSACE-CHAMPAGNE-ARDENNE-LORRAINE</td>\n",
       "      <td>BOURDENAY</td>\n",
       "      <td>BOURDENAY</td>\n",
       "    </tr>\n",
       "    <tr>\n",
       "      <th>51220.0</th>\n",
       "      <td>49.345648783,3.97511257054</td>\n",
       "      <td>329</td>\n",
       "      <td>51329</td>\n",
       "      <td>LOIVRE</td>\n",
       "      <td>1024.0</td>\n",
       "      <td>1197</td>\n",
       "      <td>51</td>\n",
       "      <td>MARNE</td>\n",
       "      <td>44</td>\n",
       "      <td>ALSACE-CHAMPAGNE-ARDENNE-LORRAINE</td>\n",
       "      <td>LOIVRE</td>\n",
       "      <td>LOIVRE</td>\n",
       "    </tr>\n",
       "  </tbody>\n",
       "</table>\n",
       "</div>"
      ],
      "text/plain": [
       "                                Geo Point  CODE_COM INSEE_COM     NOM_COM  \\\n",
       "Code_postal                                                                 \n",
       "95450.0        49.0848358031,1.9748748362         2     95002    ABLEIGES   \n",
       "76280.0      49.6097472297,0.241445095242       716     76716    TURRETOT   \n",
       "76690.0       49.6093542995,1.07016467145       105     76105  LE BOCASSE   \n",
       "10290.0       48.3605004241,3.59036233813        54     10054   BOURDENAY   \n",
       "51220.0        49.345648783,3.97511257054       329     51329      LOIVRE   \n",
       "\n",
       "             SUPERFICIE  POPULATION CODE_DEPT        NOM_DEPT  CODE_REG  \\\n",
       "Code_postal                                                               \n",
       "95450.0           792.0         933        95      VAL-D'OISE        11   \n",
       "76280.0           612.0        1511        76  SEINE-MARITIME        28   \n",
       "76690.0           860.0         707        76  SEINE-MARITIME        28   \n",
       "10290.0          1856.0         128        10            AUBE        44   \n",
       "51220.0          1024.0        1197        51           MARNE        44   \n",
       "\n",
       "                                       NOM_REG Libelle_acheminement  \\\n",
       "Code_postal                                                           \n",
       "95450.0                          ILE-DE-FRANCE             ABLEIGES   \n",
       "76280.0                              NORMANDIE             TURRETOT   \n",
       "76690.0                              NORMANDIE           LE BOCASSE   \n",
       "10290.0      ALSACE-CHAMPAGNE-ARDENNE-LORRAINE            BOURDENAY   \n",
       "51220.0      ALSACE-CHAMPAGNE-ARDENNE-LORRAINE               LOIVRE   \n",
       "\n",
       "            Nom_commune  \n",
       "Code_postal              \n",
       "95450.0        ABLEIGES  \n",
       "76280.0        TURRETOT  \n",
       "76690.0      LE BOCASSE  \n",
       "10290.0       BOURDENAY  \n",
       "51220.0          LOIVRE  "
      ]
     },
     "execution_count": 5,
     "metadata": {},
     "output_type": "execute_result"
    }
   ],
   "source": [
    "postal_1 = pd.read_csv('../Accidents/postal_part1.csv')\n",
    "postal_2 = pd.read_csv('../Accidents/postal_part2.csv')\n",
    "\n",
    "com_postal_pivot = pd.concat([postal_1, postal_2], ignore_index=True).set_index('Code_postal')\n",
    "com_postal_pivot.head(5)"
   ]
  },
  {
   "cell_type": "markdown",
   "metadata": {},
   "source": [
    "## Filtering on postal code"
   ]
  },
  {
   "cell_type": "code",
   "execution_count": 6,
   "metadata": {
    "ExecuteTime": {
     "end_time": "2019-06-19T06:59:48.006297Z",
     "start_time": "2019-06-19T06:59:47.989800Z"
    },
    "scrolled": false
   },
   "outputs": [
    {
     "data": {
      "text/plain": [
       "Geo Point               48.840040811,2.29268840406\n",
       "CODE_COM                                       115\n",
       "INSEE_COM                                    75115\n",
       "NOM_COM                   PARIS-15E-ARRONDISSEMENT\n",
       "SUPERFICIE                                     846\n",
       "POPULATION                                  238190\n",
       "CODE_DEPT                                       75\n",
       "NOM_DEPT                                     PARIS\n",
       "CODE_REG                                        11\n",
       "NOM_REG                              ILE-DE-FRANCE\n",
       "Libelle_acheminement                         PARIS\n",
       "Nom_commune                               PARIS 15\n",
       "Name: 75015.0, dtype: object"
      ]
     },
     "execution_count": 6,
     "metadata": {},
     "output_type": "execute_result"
    }
   ],
   "source": [
    "def postal_code_selection(code = None):\n",
    "    \n",
    "    # Handle given postal code (optional)\n",
    "    if isinstance(code, str): \n",
    "        postal_code_input = code\n",
    "    else: \n",
    "        postal_code_input = input(\"Select a postal code : \")\n",
    "        \n",
    "    try:\n",
    "        result = com_postal_pivot.loc[int(postal_code_input) , : ]\n",
    "    except:\n",
    "        print('Postal code not found in database')\n",
    "\n",
    "    if isinstance(result, pd.Series):\n",
    "        #print(\"Single line result\")\n",
    "        return result\n",
    "    elif isinstance(result, pd.DataFrame):\n",
    "        #print(\"Multi line result\") Get first row\n",
    "        return result.iloc[0]\n",
    "    else:\n",
    "        print(result.shape)\n",
    "\n",
    "postal_code_selection('75015')"
   ]
  },
  {
   "cell_type": "markdown",
   "metadata": {},
   "source": [
    "## Map drawing"
   ]
  },
  {
   "cell_type": "code",
   "execution_count": 61,
   "metadata": {
    "ExecuteTime": {
     "end_time": "2019-06-19T07:26:41.327584Z",
     "start_time": "2019-06-19T07:26:02.703435Z"
    },
    "scrolled": false
   },
   "outputs": [],
   "source": [
    "def export_map(\n",
    "    scale='Country',\n",
    "    post_code='75013', \n",
    "    department='75',\n",
    "    veh_type='all', \n",
    "    weather='all', \n",
    "    luminosity='all', \n",
    "    gravity='all',\n",
    "    usa_sexe='all',\n",
    "    export_name='plot_map.html',\n",
    "    begin='10', end='18'):\n",
    "\n",
    "    # Cross data - Filter on Dpt & Com\n",
    "    if scale == 'City':\n",
    "        result = postal_code_selection(post_code)\n",
    "        display_scale = 14\n",
    "        car_tmp = car[(car['dep'] == int(result['CODE_DEPT']+'0')) & (car['com'] == result['CODE_COM'])]\n",
    "        centered_location = [float(result[\"Geo Point\"].split(\",\")[0]), float(result[\"Geo Point\"].split(\",\")[1])]\n",
    "    elif scale == 'Department':\n",
    "        car_tmp = car[(car['dep'] == int(str(department) + '0'))]\n",
    "        if department == '75':\n",
    "            display_scale = 12\n",
    "            centered_location = [48.866997, 2.339459]\n",
    "        else:\n",
    "            display_scale = 9\n",
    "            result = postal_code_selection(department+'000')\n",
    "            centered_location = [float(result[\"Geo Point\"].split(\",\")[0]), float(result[\"Geo Point\"].split(\",\")[1])]\n",
    "    elif scale == 'Country':\n",
    "        car_tmp = car\n",
    "        display_scale = 6\n",
    "        centered_location = [47.12, 2.5]\n",
    "    \n",
    "    zone_df = pd.merge(veh, car_tmp, on='Num_Acc')\n",
    "    zone_df = pd.merge(zone_df, lie, on='Num_Acc')\n",
    "    zone_df = zone_df[zone_df.gps == 'M']\n",
    "    \n",
    "    # Filter on road type\n",
    "    #if scale == 'Country':\n",
    "        #zone_df = zone_df[zone_df.catr == 1.0]\n",
    "\n",
    "    # Filter empty coordinates\n",
    "    zone_df = zone_df[(zone_df.long != 0) & (zone_df.lat != 0)]\n",
    "    zone_df = zone_df[(zone_df.long != 0.0) & (zone_df.lat != 0.0)]\n",
    "    zone_df = zone_df.dropna(subset=['lat', 'long'])\n",
    "    \n",
    "    # Filter on vehicle type\n",
    "    if (veh_type == 'Cars'):\n",
    "        zone_df = zone_df[(zone_df.catv == 7)]\n",
    "    elif veh_type == 'Motorcycles':\n",
    "        zone_df = zone_df[(zone_df.catv == 2) | (zone_df.catv == 30) | (zone_df.catv == 31) | \n",
    "                          (zone_df.catv == 32) | (zone_df.catv == 33) | (zone_df.catv == 34)]\n",
    "    elif veh_type == 'Bikes':\n",
    "        zone_df = zone_df[(zone_df.catv == 1)]\n",
    "    elif veh_type == 'Public transports':\n",
    "        zone_df = zone_df[(zone_df.catv == 37) | (zone_df.catv == 38) | (zone_df.catv == 39) | \n",
    "                          (zone_df.catv == 40)]\n",
    "        \n",
    "    # Luminosity conditions\n",
    "    if (luminosity == 'Day'):                   zone_df = zone_df[(zone_df.lum == 1)]\n",
    "    elif luminosity == 'Dusk/Dawn':             zone_df = zone_df[(zone_df.lum == 2)]\n",
    "    elif luminosity == 'Night (with lighting)': zone_df = zone_df[(zone_df.lum == 5)]\n",
    "    elif luminosity == 'Night (no lighting)':   zone_df = zone_df[(zone_df.lum == 3) | (zone_df.lum == 4)]\n",
    "    \n",
    "    # Atmospheric conditions\n",
    "    if weather == 'Normal/Sunny':   zone_df = zone_df[(zone_df.atm == 1) | (zone_df.atm == 7)]\n",
    "    elif weather == 'Rain':         zone_df = zone_df[(zone_df.atm == 2) | (zone_df.atm == 3)]\n",
    "    elif weather == 'Snow':         zone_df = zone_df[(zone_df.atm == 4)]\n",
    "    elif weather == 'Fog':          zone_df = zone_df[(zone_df.atm == 5)]\n",
    "        \n",
    "    # Filter on time interval\n",
    "    zone_df = zone_df[(zone_df.an >= int(begin)) & (zone_df.an <= int(end))]\n",
    "    zone_df = pd.merge(zone_df, usa, on='Num_Acc')\n",
    "    \n",
    "    # Coordinates conversion\n",
    "    zone_df['lat'] = zone_df['lat'].replace('-', 0).fillna(0).astype('float') / 100000\n",
    "    zone_df['long'] = zone_df['long'].replace('-', 0).fillna(0).astype('float') / 100000\n",
    "    zone_df = zone_df[zone_df.long != 0.0]\n",
    "    #print(zone_df.shape[0], ' rows with good gps cordinates.\\n')\n",
    "\n",
    "    zone_df.to_csv('csv_select.csv')\n",
    "    return zone_df\n",
    "\n",
    "zone_df = export_map()"
   ]
  },
  {
   "cell_type": "code",
   "execution_count": 103,
   "metadata": {
    "ExecuteTime": {
     "end_time": "2019-06-19T08:50:09.936287Z",
     "start_time": "2019-06-19T08:50:09.634160Z"
    }
   },
   "outputs": [],
   "source": [
    "zone_df['dep'] = zone_df['dep'].astype(str)\n",
    "zone_df = zone_df[zone_df['lat']>40]\n",
    "zone_df['lat'] = zone_df['lat']-np.mean(zone_df['lat'])"
   ]
  },
  {
   "cell_type": "code",
   "execution_count": 62,
   "metadata": {
    "ExecuteTime": {
     "end_time": "2019-06-19T07:27:55.315450Z",
     "start_time": "2019-06-19T07:27:53.078811Z"
    }
   },
   "outputs": [
    {
     "data": {
      "text/plain": [
       "count    970141.000000\n",
       "mean          2.426668\n",
       "std           1.331735\n",
       "min           1.000000\n",
       "25%           1.000000\n",
       "50%           3.000000\n",
       "75%           4.000000\n",
       "max           4.000000\n",
       "Name: grav, dtype: float64"
      ]
     },
     "execution_count": 62,
     "metadata": {},
     "output_type": "execute_result"
    }
   ],
   "source": [
    "zone_df.describe()['grav']"
   ]
  },
  {
   "cell_type": "code",
   "execution_count": 148,
   "metadata": {
    "ExecuteTime": {
     "end_time": "2019-06-19T09:34:31.043372Z",
     "start_time": "2019-06-19T09:34:31.008818Z"
    }
   },
   "outputs": [],
   "source": [
    "import altair as alt\n",
    "from altair import *\n",
    "alt.data_transformers.enable('json') #allow more than 5'000 rows\n",
    "\n",
    "def return_map(X, name) :\n",
    "    \n",
    "    if len(X) >= 5000 :\n",
    "        X = X.sample(35000)\n",
    "    \n",
    "    grav_dict = {}\n",
    "    grav_dict[1] = \"Unharmed\"\n",
    "    grav_dict[2] = \"Killed\"\n",
    "    grav_dict[3] = \"Hurt + Hospital\"\n",
    "    grav_dict[4] = \"Hurt\"\n",
    "    \n",
    "    X['grav'] = X['grav'].apply(lambda x: grav_dict[x])\n",
    "    \n",
    "    def plot_map(X) :\n",
    "\n",
    "            scales = alt.selection_interval(bind='scales')\n",
    "\n",
    "            input_dropdown = alt.binding_select(options=list(X['dep'].unique()))\n",
    "            \n",
    "            selection_2 = alt.selection_multi(fields=['grav'])\n",
    "            color_2 = alt.condition(selection_2,\n",
    "                      alt.Color('grav:N', scale=alt.Scale(scheme='redyellowgreen'), legend=None),\n",
    "                      alt.value('lightgray'))\n",
    "            \n",
    "            map = alt.Chart(X).mark_circle().encode(\n",
    "                x='long',\n",
    "                y=alt.Y('lat'),\n",
    "                color=color_2,\n",
    "                tooltip=[\n",
    "                    alt.Tooltip('grav:N', title=\"Gravité\"),\n",
    "                    alt.Tooltip('an:Q', title=\"Année\"),\n",
    "                    alt.Tooltip('an_nais:Q', title=\"Année Naissance\")\n",
    "                ]\n",
    "            ).properties(\n",
    "                width=700,\n",
    "                height=700\n",
    "            ).add_selection(\n",
    "                selection_2\n",
    "            ).add_selection(\n",
    "                scales\n",
    "            ).properties(\n",
    "                title='Map of the accidents'\n",
    "            )\n",
    "\n",
    "            legend = alt.Chart(X).mark_point().encode(\n",
    "                y=alt.Y('grav:N', axis=alt.Axis(orient='right')),\n",
    "                color=color_2\n",
    "            ).add_selection(\n",
    "                selection_2\n",
    "            )\n",
    "            \n",
    "            chart = map | legend\n",
    "            return chart.save(name)\n",
    "        \n",
    "    return plot_map(X)"
   ]
  },
  {
   "cell_type": "code",
   "execution_count": 149,
   "metadata": {
    "ExecuteTime": {
     "end_time": "2019-06-19T09:34:41.166536Z",
     "start_time": "2019-06-19T09:34:32.857513Z"
    }
   },
   "outputs": [],
   "source": [
    "return_map(zone_df, 'map_altair_explo.html')"
   ]
  },
  {
   "cell_type": "code",
   "execution_count": 138,
   "metadata": {
    "ExecuteTime": {
     "end_time": "2019-06-19T09:16:26.127296Z",
     "start_time": "2019-06-19T09:16:26.091164Z"
    }
   },
   "outputs": [],
   "source": [
    "import altair as alt\n",
    "from altair import *\n",
    "alt.data_transformers.enable('json') #allow more than 5'000 rows\n",
    "\n",
    "def return_map(X, name) :\n",
    "    \n",
    "    if len(X) >= 5000 :\n",
    "        X = X.sample(35000)\n",
    "    \n",
    "    X = X\n",
    "    def plot_map(X) :\n",
    "\n",
    "            scales = alt.selection_interval(bind='scales')\n",
    "\n",
    "            input_dropdown = alt.binding_select(options=list(X['dep'].unique()))\n",
    "\n",
    "            selection = alt.selection_single(fields=['dep'], bind=input_dropdown, name='Origin ')\n",
    "            color = alt.condition(selection,\n",
    "                      alt.Color('dep:N', legend=None),\n",
    "                      alt.value('lightgray'))\n",
    "            \n",
    "            selection_2 = alt.selection_multi(fields=['grav'])\n",
    "            color_2 = alt.condition(selection_2,\n",
    "                      alt.Color('grav:Q', scale=alt.Scale(scheme='redyellowgreen'), legend=None),\n",
    "                      alt.value('lightgray'))\n",
    "            \n",
    "            map = alt.Chart(X).mark_circle().encode(\n",
    "                x='long',\n",
    "                y=alt.Y('lat'),\n",
    "                color=color_2,\n",
    "                tooltip=[\n",
    "                    alt.Tooltip('hrmn:Q', title=\"Heure\")\n",
    "                ]\n",
    "            ).properties(\n",
    "                width=700,\n",
    "                height=700\n",
    "            ).add_selection(\n",
    "                selection_2\n",
    "            ).add_selection(\n",
    "                selection\n",
    "            ).transform_filter(\n",
    "                selection\n",
    "            ).add_selection(\n",
    "                scales\n",
    "            )\n",
    "\n",
    "            legend = alt.Chart(X).mark_point().encode(\n",
    "                y=alt.Y('grav:Q', axis=alt.Axis(orient='right')),\n",
    "                color=color_2\n",
    "            ).add_selection(\n",
    "                selection_2\n",
    "            )\n",
    "            \n",
    "            chart = map | legend\n",
    "            return chart.save(name)\n",
    "        \n",
    "    return plot_map(X)"
   ]
  },
  {
   "cell_type": "code",
   "execution_count": 139,
   "metadata": {
    "ExecuteTime": {
     "end_time": "2019-06-19T09:16:33.752649Z",
     "start_time": "2019-06-19T09:16:28.050538Z"
    }
   },
   "outputs": [],
   "source": [
    "return_map(zone_df, 'map_altair.html')"
   ]
  }
 ],
 "metadata": {
  "kernelspec": {
   "display_name": "Python 3",
   "language": "python",
   "name": "python3"
  },
  "language_info": {
   "codemirror_mode": {
    "name": "ipython",
    "version": 3
   },
   "file_extension": ".py",
   "mimetype": "text/x-python",
   "name": "python",
   "nbconvert_exporter": "python",
   "pygments_lexer": "ipython3",
   "version": "3.6.5"
  },
  "latex_envs": {
   "LaTeX_envs_menu_present": true,
   "autoclose": false,
   "autocomplete": true,
   "bibliofile": "biblio.bib",
   "cite_by": "apalike",
   "current_citInitial": 1,
   "eqLabelWithNumbers": true,
   "eqNumInitial": 1,
   "hotkeys": {
    "equation": "Ctrl-E",
    "itemize": "Ctrl-I"
   },
   "labels_anchors": false,
   "latex_user_defs": false,
   "report_style_numbering": false,
   "user_envs_cfg": false
  },
  "toc": {
   "base_numbering": 1,
   "nav_menu": {},
   "number_sections": false,
   "sideBar": true,
   "skip_h1_title": false,
   "title_cell": "Table of Contents",
   "title_sidebar": "Contents",
   "toc_cell": false,
   "toc_position": {},
   "toc_section_display": true,
   "toc_window_display": false
  }
 },
 "nbformat": 4,
 "nbformat_minor": 2
}
